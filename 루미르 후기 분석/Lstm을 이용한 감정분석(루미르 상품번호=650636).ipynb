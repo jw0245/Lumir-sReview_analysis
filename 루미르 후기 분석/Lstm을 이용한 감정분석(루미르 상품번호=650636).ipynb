{
 "cells": [
  {
   "cell_type": "code",
   "execution_count": 10,
   "id": "opened-workplace",
   "metadata": {},
   "outputs": [],
   "source": [
    "# nsmc 텍스트 토큰나이징 한 pickle 데이터 불러오기\n",
    "import pickle\n",
    "with open('train_text.pk', 'rb') as f:\n",
    "    train = pickle.load(f)\n",
    "with open('test_text.pk', 'rb') as f:\n",
    "    test = pickle.load(f)"
   ]
  },
  {
   "cell_type": "code",
   "execution_count": 11,
   "id": "korean-morrison",
   "metadata": {},
   "outputs": [
    {
     "data": {
      "text/plain": [
       "(146124, 48760)"
      ]
     },
     "execution_count": 11,
     "metadata": {},
     "output_type": "execute_result"
    }
   ],
   "source": [
    "len(train), len(test)"
   ]
  },
  {
   "cell_type": "code",
   "execution_count": 12,
   "id": "defensive-cooperative",
   "metadata": {},
   "outputs": [],
   "source": [
    "# import\n",
    "import tensorflow as tf\n",
    "from tensorflow.keras.preprocessing.text import Tokenizer\n",
    "from tensorflow.keras.models import Sequential\n",
    "from tensorflow.keras.layers import Dense, Embedding, LSTM\n",
    "from tensorflow.keras.preprocessing.sequence import pad_sequences"
   ]
  },
  {
   "cell_type": "code",
   "execution_count": 13,
   "id": "martial-deficit",
   "metadata": {},
   "outputs": [],
   "source": [
    "# 파라미터\n",
    "max_words = 35000\n",
    "max_len = 50\n",
    "batch_size=128\n",
    "epochs = 30"
   ]
  },
  {
   "cell_type": "code",
   "execution_count": 14,
   "id": "lovely-supply",
   "metadata": {},
   "outputs": [],
   "source": [
    "# 데이터 전처리\n",
    "# 토크나이징, 패딩(제로패딩)\n",
    "import numpy as np\n",
    "\n",
    "# 문서만 추출\n",
    "train_x = [doc for doc, _ in train]\n",
    "\n",
    "# 토크나이징\n",
    "tokenizer = Tokenizer(num_words=max_words)\n",
    "tokenizer.fit_on_texts(train_x)\n",
    "\n",
    "# 변환(LSTM모델의 입력값을 넣기 위해)\n",
    "x_train = tokenizer.texts_to_sequences(train_x)\n",
    "y_train = np.array([int(label) for _, label in train])\n",
    "\n",
    "x_test = tokenizer.texts_to_sequences([doc for doc, _ in test])\n",
    "y_test = np.array([int(label) for _, label in test])\n",
    "\n",
    "# 길이를 동일하게 맞추기\n",
    "x_train = pad_sequences(x_train, maxlen=max_len, padding='pre')\n",
    "x_test = pad_sequences(x_test, maxlen=max_len, padding='pre')\n",
    "\n",
    "# 학습가능한 형태로 변환\n",
    "train_ds = tf.data.Dataset.from_tensor_slices((x_train, y_train)).batch(batch_size)\n",
    "test_ds = tf.data.Dataset.from_tensor_slices((x_test, y_test)).batch(batch_size)"
   ]
  },
  {
   "cell_type": "code",
   "execution_count": 15,
   "id": "possible-symposium",
   "metadata": {},
   "outputs": [
    {
     "data": {
      "text/plain": [
       "<BatchDataset shapes: ((None, 50), (None,)), types: (tf.int32, tf.int32)>"
      ]
     },
     "execution_count": 15,
     "metadata": {},
     "output_type": "execute_result"
    }
   ],
   "source": [
    "train_ds"
   ]
  },
  {
   "cell_type": "code",
   "execution_count": 16,
   "id": "greatest-veteran",
   "metadata": {},
   "outputs": [],
   "source": [
    "# 모델 구현\n",
    "# 클래스로 구현하는 방법\n",
    "class MyLSTM(tf.keras.Model):\n",
    "    # 생성자\n",
    "    def __init__(self):\n",
    "        # 부모클래스의 생성자 호출\n",
    "        super().__init__()\n",
    "        self.emb = Embedding(max_words, 100)\n",
    "        self.lstm = LSTM(128, dropout=0.2, recurrent_dropout=0.2)\n",
    "        self.dense = Dense(1, activation='sigmoid')\n",
    "    \n",
    "    def call(self, x):\n",
    "        x = self.emb(x)\n",
    "        x = self.lstm(x)\n",
    "        x = self.dense(x)\n",
    "        return x"
   ]
  },
  {
   "cell_type": "code",
   "execution_count": 17,
   "id": "removed-detail",
   "metadata": {},
   "outputs": [],
   "source": [
    "# 모델객체 선언\n",
    "model = MyLSTM()"
   ]
  },
  {
   "cell_type": "code",
   "execution_count": 18,
   "id": "cubic-canberra",
   "metadata": {},
   "outputs": [],
   "source": [
    "# 모델설정\n",
    "model.compile(optimizer='adam', loss='binary_crossentropy', metrics=['acc'])"
   ]
  },
  {
   "cell_type": "code",
   "execution_count": 19,
   "id": "peripheral-archives",
   "metadata": {},
   "outputs": [],
   "source": [
    "# Early Stopping\n",
    "es = tf.keras.callbacks.EarlyStopping(monitor='val_loss',patience=3, verbose=1)\n",
    "# ModelCheckpoint\n",
    "mc = tf.keras.callbacks.ModelCheckpoint('nsmc_bestmodel.cp', monitor='val_loss', mode='min', save_best_only=True)"
   ]
  },
  {
   "cell_type": "code",
   "execution_count": 20,
   "id": "annual-addition",
   "metadata": {},
   "outputs": [
    {
     "name": "stdout",
     "output_type": "stream",
     "text": [
      "Epoch 1/30\n",
      "1142/1142 [==============================] - 398s 341ms/step - loss: 0.4699 - acc: 0.7624 - val_loss: 0.3934 - val_acc: 0.8183\n",
      "Epoch 2/30\n",
      "1142/1142 [==============================] - 352s 308ms/step - loss: 0.3457 - acc: 0.8468 - val_loss: 0.4008 - val_acc: 0.8172\n",
      "Epoch 3/30\n",
      "1142/1142 [==============================] - 237s 207ms/step - loss: 0.2950 - acc: 0.8726 - val_loss: 0.4309 - val_acc: 0.8144\n",
      "Epoch 4/30\n",
      "1142/1142 [==============================] - 243s 213ms/step - loss: 0.2480 - acc: 0.8940 - val_loss: 0.4762 - val_acc: 0.8097\n",
      "Epoch 00004: early stopping\n"
     ]
    }
   ],
   "source": [
    "# 학습\n",
    "history = model.fit(train_ds, validation_data=test_ds, epochs=epochs, batch_size=batch_size, callbacks=[es, mc])"
   ]
  },
  {
   "cell_type": "markdown",
   "id": "coordinated-accreditation",
   "metadata": {},
   "source": [
    "model.evaluate(x_test, y_test)"
   ]
  },
  {
   "cell_type": "code",
   "execution_count": 21,
   "id": "fifth-monster",
   "metadata": {},
   "outputs": [
    {
     "data": {
      "image/png": "[encoded data removed]",
      "text/plain": [
       "<Figure size 864x576 with 1 Axes>"
      ]
     },
     "metadata": {
      "needs_background": "light"
     },
     "output_type": "display_data"
    }
   ],
   "source": [
    "import matplotlib.pyplot as plt\n",
    "\n",
    "plt.figure(figsize=(12,8))\n",
    "plt.plot(history.history['loss'])\n",
    "plt.plot(history.history['val_loss'])\n",
    "plt.plot(history.history['acc'])\n",
    "plt.plot(history.history['val_acc'])\n",
    "plt.show()"
   ]
  },
  {
   "cell_type": "code",
   "execution_count": 22,
   "id": "indirect-pride",
   "metadata": {},
   "outputs": [],
   "source": [
    "# 후기 데이터 불러오기\n",
    "import pymysql\n",
    "conn = pymysql.connect(host='localhost', user='root', password='root', db='collection', charset='utf8mb4')\n",
    "cur = conn.cursor()\n",
    "cur.execute('select review from 29cm_lumir where product_no = 650636')\n",
    "data = cur.fetchall()\n",
    "cur.close()\n",
    "conn.close()"
   ]
  },
  {
   "cell_type": "code",
   "execution_count": 23,
   "id": "molecular-bankruptcy",
   "metadata": {},
   "outputs": [],
   "source": [
    "data = list(data)"
   ]
  },
  {
   "cell_type": "code",
   "execution_count": 42,
   "id": "synthetic-spirit",
   "metadata": {},
   "outputs": [
    {
     "data": {
      "text/plain": [
       "'남자친구 선물이었는데 정말 대만족이에요! 생각보다 큰 것 같았는데 설치하고나니 마음에 딱 들고 유광하길 잘한거 같아요 ㅎㅎ 빛 조절이 되어서 좋습니다'"
      ]
     },
     "execution_count": 42,
     "metadata": {},
     "output_type": "execute_result"
    }
   ],
   "source": [
    "data[3][0]"
   ]
  },
  {
   "cell_type": "code",
   "execution_count": 24,
   "id": "answering-access",
   "metadata": {},
   "outputs": [],
   "source": [
    "review = [row[0] for row in data]"
   ]
  },
  {
   "cell_type": "code",
   "execution_count": 25,
   "id": "twenty-settlement",
   "metadata": {},
   "outputs": [
    {
     "data": {
      "text/plain": [
       "['색감도 좋고 밝기 및 색상 조절이 되서 좋네요. 견고한 부분이 있고 높이도 좋습니다. 밤에 켜두기 좋네요.',\n",
       " '약간 기우뚱? 하는데 제가 잘못 나사를 돌림거 같구 예뻐요~~~ 식탁위에 놓으려고 샀어요 !!!잘 쓸게여',\n",
       " '무야~호~~~ 예뻐요!!! 밝기조절, 취침 타이머가 있어 느므 좋습니다. 유광이라 고급짐이 있어요ㅎ 방이 한층더 예뻐졌어요',\n",
       " '남자친구 선물이었는데 정말 대만족이에요! 생각보다 큰 것 같았는데 설치하고나니 마음에 딱 들고 유광하길 잘한거 같아요 ㅎㅎ 빛 조절이 되어서 좋습니다',\n",
       " '저희집에 찰떡이네요! 여기저기 어디에 둬도 잘 어울려요!! 다만 엄청 무거워서 조심해야 할듯 해요',\n",
       " '제품은 예쁘지만..\\n벌트부터 기울어져서 설치했을때\\n아무리해도 각도가 기울어져요\\n제가 받은 제품만 그런걸까요?ㅡㅡ',\n",
       " '생각보다 크긴 했지만 빛이 은은한데다 색온도와 밝기조절, 타이머 기능까지 있어서 매우 요긴하게 잘 쓰고 있어요.\\n장스탠드를 사려다가 공간이 애매해 이 제품을 대신 산건데 빛이 그만큼 밝아서 좋습니다.\\n레스토랑도 마음대로 가지 못하는 요즘에 분위기 내는데 딱 좋아요 :)\\n\\n대신 유리갓의 수평이 딱 떨어지게 맞진 않는 것 같고, 갓 군데군데 약간의 흠이 보이긴 하지만 아직 사용하는데 무리는 없습니다.\\n디자인, 기능이 값어치만큼은 하는 것 같아요.',\n",
       " '생각보다 크긴한데 조명색도 조절되고 단계도 조절되서 넘 좋아요',\n",
       " '더많이 밝았으면 좋겠지만 은은하니 괜찮아요 눈이 편안해집니다 \\n디자인도 넘 깔끔하니 맘에 들어요! 할인할때 잘샀습니다.',\n",
       " '처음에 제품 받고 기울어서 문의드렸는데, 답변 링크 받고 각도 조절 했습니다. 그렇지만 잘 조립해보아도 여전히 약간의 기울임은 있고, 헤드 나사가 딱 맞지 않고 뜨는건 거슬리긴 합니다.\\n쉐이드랑 상단 부품 곳곳에 스크래치도 있으나 크게 보이는 부분은 아니라 신경쓰지 않고 쓰려 합니다.\\n심플한 디자인과 전구가 아닌 led이고, 조명색, 밝기 조절 가능한 점은 맘에 듭니다. 하지만 가격이 있는 편임에도 수평을 맞추기 어렵다는 점, 조심히 다뤄야 하는 점 등 조립 및 이동 과정에서는 불편함이 있는 제품입니다.\\n+ 빛떨림이 꽤 자주 발생 되어요, off on하면 괜찮아지긴 하는데 신경쓰이네요.',\n",
       " '디자인이 심플하고 어디에 나둬두 잘 어울리네요^^너무 만족입니다^^디자인도 심플하고 백색 라이트 주황 라이트 모두 선택할수 있구요',\n",
       " '처음 받았을  때 기울어져서 교환 문의 했는데 잘 끼면 된다고 다시 해보라고 해서 다시 해봤더니 기우는 건 나아졌는데 여전히 신경은 쓰이네요~ 복불복인듯해여 그래도 이뿌긴 이뻐여',\n",
       " '색이 두가지 모드가 있어서 질리지 않고\\n수면모드 너무 좋아요',\n",
       " '친구에게 주었는데, 아주 만족스러워 합니다. 문제 없이 잘되고 너무 이쁘다고 하네요. 빛조절 되서 너무 편하다고 하더라고요. ',\n",
       " '전등갓 고정 부분이 좀 불안정 하긴한데, 디자인은 만족스럽습니다',\n",
       " '고심 끝에 주문했는데\\n너무 만족스럽고 기대한 만큼 예뻐요\\n3가지 컬러도 마음에 들고\\n따뜻한 조명 덕분에 요즘 침실이 아늑해졌어요',\n",
       " '신혼집 선물로 줄려구 주문해서 전달해줬는데 너무예쁘구 친구도 마음에 들어했어요💛\\n무광 유광중에 고민하다가 빛을 밝혔을때\\n예쁜건 유광일듯해서 선택했는데 만족합니다👍👍',\n",
       " '침대 옆 테이블에 두니 딱 맞습니다\\n3가지 모드로 변경이 되는데 밝기도\\n4단계로 조절되어서 원하는 빛으로\\n변경해가며 사용 할수 있어서 좋아요',\n",
       " '한동안 루미르R을 눈으로만 보다가 12월에 주문해서 잘 받았습니다 :D\\n디자인 넘 고급스럽고 예쁩니다.\\n전 두개주문했는데 하나는 11일 이후에 순차배송이라지만\\n기다릴수 있어요~ㅎㅎ\\n유리라서 좀 조심스럽지만 분위기전환하는데는 루미르R 좋아요~\\n별 다섯개를 주고 싶었는데 맨 윗부분의 나사가 딱 맞지않아 별하나 뺏지만 그냥 쓰려구요....\\n',\n",
       " '펄펙 ❤️❤️❤️❤️❤️ 너무 아름다워요. \\n사려고 했던거라 드디어 샀는데 역시는 역시에요 \\n빛조절 다되구요. 심플하게 떨어지는 디자인 보세요..\\n☺️☺️☺️',\n",
       " '친구 집들이 선물로 구매했어요!!! 너무 이쁘다고 좋아하니 저도 조우눼유 저도 블랙으로 구매할까 합니다.',\n",
       " '집들이 선물로 샀는데 북유럽 느낌 난다고 친구가 좋아하네요. 조명 밝기가 단계별로 조정되어서 좋대요',\n",
       " '몇달 전에 처음 보고 고민했는데 가격 행사를 해서 냉큼 구매했어요! 딱 원하던 느낌입니다. 매일 켜놓고 만족 중입니다! ',\n",
       " '진짜 이뻐요~ 불빛 은은하고 너무 좋고, 무엇보다 좋은 건 취침 기능이 있다는 거에요~ 30분 뒤에 자동으로 불이 꺼지는\\n게 정말 많이 편리하네요ㅎㅎ 유리라서 조심히 잘 써야할 거 같아요~ 사이즈는 생각보다 컸지만 예뻐요~!',\n",
       " '살짝 고민되는 가격이기도 했고 실물로 보지도 못했지만 눈에 아른거려서 결국 구매하게됐는데 고민한 시간이 아깝네요. 유리라 무게감이 있어서 여기저기 쉽게 이동하면서 쓰진 못하지만 침실에 두고쓰기에 좋아요. 이사하면서 인테리어와 너무 잘 어울리고 예쁩니다. 고민하고 계신다면 이 기회에 구매하세요.',\n",
       " '너무 맘에드네요.\\n차가운 빛도 따뜻한 빛도 다맘에들어요',\n",
       " '정말 이쁜데 ㅠ 유리쪽에 코팅이안된 흠이 있어요 ㅠㅠ 글구 안쪽면에 커팅부분은 원래 매끄럽지 못한게 맞는거죠?? 큰맘먹구 나름 투자한건데 너무 아쉬워요. ㅠㅠㅠ ㅠ 선물이 아니라 쓰긴쓰는데 쓰는동안 계속 생각나겠죠?? ㅠㅠㅠ',\n",
       " '요즘에  터치가 아닌것이 좀 이상하지만\\n맘에 듭니다 ',\n",
       " '곧 결혼하는 친구네 신혼집! 집들이 선물로 구매했습니다~~ 서프라이즈로 구매해서 선물했는데~  무지 좋아하네요ㅎㅎ 은은한 조명이 분위기도 딱 살려주네요',\n",
       " '친구 집들이 선물로 구매했는데! 너무 마음에 들어하네요ㅎㅎㅎ 거실에 딱! 두니~ 분위기도 살고 비쥬얼도 좋네요~',\n",
       " '집안 분위기가 완전 사네요! 제품도 견고하고 너무 마음에 듭니다. 등 하나로 다양한 분위기도 연출할 수 있어서 좋어요',\n",
       " '금액대가 좀있ㅇㆍ서 고민했는데 사이즈며 타이머기능에 디자인까지 너무 마음에들어요 안깨지게 조심해야겠어요',\n",
       " '방에 두니 빛 온도와 밝기 조절 다돼서 좋아요',\n",
       " '뭔가 큰 박스가 왔는데 아직 뜯어보지는 못했지만 무광으로 살 걸 하고 후회했다 이상하게 상자를 뜯을 엄두가 나지 않는다\\n',\n",
       " '오래 가격이 만만치 않아서 고민하다가 샀는데 너무 잘 쓰고 있어요!! 어디다 놔도 예쁘네요! 주광색은 여름밤에 너무 잘 어울립니다. ',\n",
       " '가격대비 마감이 좋지않아보여서(전선 연결부위나 램프받침 등) 첫인상도 불안했는데\\n예뻐서 사용했어요\\n근데 아주 살짝 건드렸는데 금이 가더니 후기쓰기도 전에 유리갓이 깨져버렸네요ㅠㅠㅠㅠ  \\n약하다는 주의를 봐서 조심히 사용했는데.. 슬퍼요\\n너무너무 약한듯요',\n",
       " '디자인이 예뻐요. 무광 유광 고민하다가 유광이 더 깨끗해보일것 같아 주문했어요. 배송도 빠르고.. 다만 조립하실때 깨질 위험이 크니 조심히 다루셔야합니다',\n",
       " '켜지 않아도 예쁘고 켜면 더 예쁘네요\\n선물했는데 받는 사람도 주는 사람도 너무 기분 좋았습니다. 색상조정도 가능해서 여러가지\\n분위기로 연출할수 있는 점도 좋아요!',\n",
       " '생각대로 예쁜데 생각보다 사이즈는 좀 큰느낌? 깔끔하구 밝기조절되고 노란빛 하얀빛 조절도 가능해서 넘 좋네요 ! 배송도 나무랄 것 없이 포장 잘되있고 빠르고.. 굿입니다 !',\n",
       " '이사하면서 분위기를 바꿔보고 싶어서 구입했는데 정말 탁월한 선택이었어요. 무광유광중 고민하다가 유광으로 했는데 만족해요^^',\n",
       " '배송이 엄청 깔끔하게 왔어요!\\n포장도 좋고, 조립도 간편해요.\\n생각보다 1단계가 밝다는 점?이 살짝 아쉽고,\\n4단계 조절되다보니 그래도 다른 조명보단 훨씬 좋아요!\\n디자인은 사진처럼 이미 완벽합니다😎',\n",
       " '너무 이쁘네요\\n조명 색깔도 3가지로 나뉘고 30분 타이머 기능도 있어서 좋네요. 조립도 쉽습니다',\n",
       " '심플하고 군더더기 없는 색도 조절가능한 물건 입니다! 밝기조절 색조절 여러가지 모두 유용해요 디자인은 보다시피 말할것도 없이 예쁩니다~',\n",
       " '이사오면 사겠다고 찜꽁하고 있다가 이사와서 드디어 구매했어요! 맘에 쏙 들어요',\n",
       " '조립하고 막 찍어 봤어요! 몇 달 고민하다 세일기간에 샀는데 왜 고민했는지ㅎㅎ 역시 예쁘네요. 그리고 배송일자도 맞춰주시고 너무 감사해요! 번창하세요~~',\n",
       " '심플한 디자인 맘에 들어서 샀는데 디자인은 물론이고 기능도 좋네요. 라이트의 톤 조절도 되고 밝기 조절도 되서 만족스러워요! ',\n",
       " '장점 예쁘다. 밝기 조절이 된다. \\n\\n단점 유리 쉐이드를 조심해서 조립해야하나보다. 불 밝기나 색을 조절해두면 끄고 나서 다시 해야한다.',\n",
       " '오늘 왔는데 너무너무 예뻐요..! 이사가면 꺼내려고했는데, 예뻐서 다급하게 설치했어요 진짜 아무생각없이 샀는데 최고.. 자세히 안보고 사서 조명이 세가지 색상이 있는지도 몰랐어요 전구로 하는게 아니다보니 더 마음에 듭니다 실제로 보면 모던하고 깔끔하고.. 계속 쳐다보고있어요 이사가면 테이블 위에 놓을건데 매우 잘 어울릴것같아요 최고최고!! ',\n",
       " '평소 눈여겨봤던 제품인데 세일할때 저렴하게사서 좋네요! 배송도 빨랐고 제품 퀄리티도 좋아요. 바로 끌수있는 off버튼이 없어서 아쉽지만 그래도 만족합니다.',\n",
       " '생각보다 훨씬 고급스럽고 예쁩니다~~\\n조명도 은은하게 들어와 좋습니다',\n",
       " '완전 만족!!!완성도가 좋고 빛도 은은하게 조절할수있어서 좋음. 디자인도 굿!!, 잘때 무드등으로 켜놓으니까 딱 좋다',\n",
       " '마음에 들어요.  시간예약도 되구요.  하지만 낮은 편이라서 책 읽을 때 좀 어둡긴 하구요. 그래도 밝기 조절도 되어서 좋습니다~~',\n",
       " '유리가 깨져서 배송 되었는데 , 바로 교환도 해주시고 제품도 정말 맘에 듭니다 밝기 조절이 되는것도 정말 좋아요',\n",
       " '가격도 적당하고 자동으로 조절되고 색상또한 랜덤으로 설정할 수 있어서 다양한 무드를 즐길수 있어요! 넘 맘에 듭니다',\n",
       " '넘넘 이뻐요~~!!\\n스탠드 하나에 거실 분위기가 확 달라졌네요^^\\n이만한 가격에 훌륭한 퀄리티~\\n좋은가격 좋은 제품 감사합니다~~👍🏻',\n",
       " '생각보다 큽니다 예쁘고 유리 마감이 좋네요. \\n예약 기능이 있어서 샀는데 좋아요.\\n맨날 같은 색만 쓸거같은제 켤 때 매번 바꿔줘야 하는건 어쩔수 없는듯요. 쿠폰써서 싸게 잘 샀습니다',\n",
       " '유광/무광 엄청 고민하다가 유광으로 샀는데\\n진짜 너무 예뻐요~조명 밝기도 조절되고 톤도 바꿀수 있어서\\n그때그때 분위기에 맞춰 연출이 가능해서 더 좋아요!\\n자기전에 밝기를 낮춰주니 포근한 느낌이 나서 꿀잠모드😴\\n결혼선물로 친구에게 선물하려고, 하나 더 구매합니다!',\n",
       " '밝기조절도되고 타이머도되서좋아아요!',\n",
       " '집분위기가 훨씬 좋아졌어요. 색상도 은은하게 틀수있어서 좋구요. 다만 사고 몇일뒤에 할인율이 올라서 좀 그랬어요.. 아무튼 잘쓰고있어요',\n",
       " '너어어어어어어무 이쁩니다.\\n블랙 무광이랑 유광유리랑 고민을 했는데\\n저희 안방 가구에는 블랙도 참 멋졌을 거 같아요~\\n다음에 블랙으로 하나 더 구입해서 사용 해보려구요\\n다만, 선이 좀 짧은 것 같아요 ㅠㅠ 그래서 콘센트까지 안가서 침대 옆 선반을 옮겼네요. (선 연장 되는 건 안파시는지...)\\n여튼 이래저래 밝고, 고급스럽고 긔여움 머싀룸 같습니다 ㅋㅋㅋ',\n",
       " '신혼집에 선물했어요. \\n처음에 불량이 왔는데 잘 교환해주신 거 같습니다. \\n밝기 조절도 되고 화이트라 어디든 잘 어울리는 거 같아요. \\n',\n",
       " '어버이날 기념으로 주무시기전 책 읽으시는 엄마에게 선물로 드렸는데요 정말 강추 예요 ...!!! 너무너무 이쁩니다:) ',\n",
       " '쿠폰 적용해서 다른곳에서보다 저렴하게 구입했습니다. 다만 제품 불량이 와서, 제품 일부 교환처리가 필요해서 귀찮기는 했네요. 그래도 신속하게 처리해주셨어요. 밤에 봐야 더 예쁜데.. 출근길 아침에 찍어버렸네요. 예쁘게 사용할게요! ',\n",
       " '말이.. 정말 말이.. 필요없어요 ㅠㅠ 너무 예뻐요. 저희집 인테리어에 정말 한몫 두몫 세몫해요!',\n",
       " '색도 바꿀수 있고  밝기조절 가능하고 타이머 되고 아주 좋네요^^  ',\n",
       " '고민 많이하다가 이번에 샀어요 진짜 너무너무너무 만족스럽습니다 너무이뻐요!!!! 다음번 조명도 루미르와 함께할래요!',\n",
       " '일단 받자마자 조립하고 올려뒀는데 너무 이쁩니다!!ㅠㅠ디자인도 흔하지 않고 조명 색도 3가지라 너무 마음에 들어요ㅎㅎ근데 생각보다 크기가 커서 방이 작은 곳보다는 큰곳에 잘 어울릴거같아요!!하지만 너무 이쁩니다 만족만족',\n",
       " '무게감 있고 가격이 비싸지 않은 편인데도 마감이 너무 좋아서 놀랐어요 조명 컬러도 조절되서 더 좋아요',\n",
       " '완전 예뻐요~^^ 독서등이 필요해서 산건데... 만족합니다!! 불 색깔이랑 강도가 변경가능한것도 맘에 들고... 모양도 예뻐요!! ^^ 다만... 같이 온 USB충전선은 불량이었어요 ㅜㅜ',\n",
       " '주말 공휴일 등등 여러가지 일(?)로 좀 늦게 설치\\n했지만 만족도는 200%입니다!!빛조절,예약off,조명색깔옵션까지 맘에 안드는 구석이 없어서 이녀석 강추예요^^👍🏻분위기는 덤이구요 ㅎㅎㅎ',\n",
       " '안방 무드등 찾는 와중에 루미르 발견하고 고민 끝네 구매했어요. 조립도 너무 간단 하구요. 사용법도 쉬워서 좋아요. \\n루미르에서 나오는 다른 조명도 눈여겨 보고 있어요 ',\n",
       " '화이트테이블과 너무 잘 어울리네요\\n조명색상도 바꿀수 있고 디자인도 맘에 쏙 들어요',\n",
       " '아래 홈 끼우는데 마감이 깨끗하지 않아요 보이지 않아서 그냥 놔뒀는데 흰색 받침에 검정색 쇳가루?!들이 묻어서 왔어요 일단 안보이는 부분이라서 조립했습니다 조명색상도 옐로우톤 화이트톤 선택가능해서 좋아요 루미르조명 까사미아에서 눈여겨보다가 샀는데 다음에는 밑에 받침만 터치하면 돼는 조명들도 나오면 좋을것 같아요~^^ 까사미아 버키터치조명같이요~ 남편은 그거 사고파했는데 디자인때문에 제가 루미르 밀었습니당',\n",
       " '일단 디자인 너무 마음에 들고요, 사용방법도 어렵지 않고\\n편리합니다. 선물하기에도 좋은 아이템같아요',\n",
       " '유리로 시키면서 깨질까봐 걱정했는데 안전하게 잘왔어요\\n백색빛으로 깔끔하고 여기저기 잘 어울려요 빛 조절에 따라 분위기도 바뀌구요 묵직해서 안전감 있습니다.\\n\\n+단점) 유광유리라 지문이 잘 묻어요 ㅠㅠ, 그리고 무엇보다도 조립할때 너무 힘들어서 교환하려고 했습니다. 완충제같은 부분을 납작하게해야 겨우 조여졌어요 처음 상태로는 절대 조여지지 않아요.. 디테일한 몇 mm가 부족해서 조립할때  애먹었습니다.',\n",
       " '안방에 조명이 마음에 드는게 없어서 4달째\\n구매 안하고 버티다가 이렇게 딱 맘에 드는 제품을 찾았네요. \\n심미적인 부분과 기능적인 부분을 백프로 만족시켜줘요. 아이가 있어서 무섭다고 불 켜진채로 담날까지 잠들어버리기 일쑤라 수유등을 살까하다가도 심미적인 부분때메 망설이다가 루미르 발견해서 구매했어요.  은은하게 위로 퍼져서 공간이 밝아져서 타이머 맞추고 책읽다 잠들기도 좋네요.\\n유광 무광 고민했는데 막상 받아보니 고민한 시간들이 무색할정도로 예쁘네요.\\n약간 아쉬운 부분은 다른분도 언급하신 선 부분인데 본체 밑부분에 있으면 더 좋았을거같긴해요.\\n그 외는 백프로만족하고 세일때 두개 사서 거실에도 둘걸했어요^^',\n",
       " '신혼집에 스탠드 한개 구매하려고 3달간 여유를 가지고 이것저것 알아보았습니다 \\n그 과정에서 루미르 제품 역시 몇번 지나쳐 봤었고요.\\n\\n그러다 30만원대 50만원대 고가 스탠드라 불리는 것들도 직접 오프라인을 찾아 봤습니다. 대체 왜 비싼지 알고 싶은 호기심에.\\n그런데 역시 유명한 것들은 실제로 보면 다 이유가 있더라고요. \\n\\n하지만 아직 스탠드를 그렇게까지 투자해야하나 해서 다시 또 알아봤습니다. 그런데 눈만 높아져 이전보다 힘들어진 상황에 루미르의 디자인이 제대로 들어왔고 기사들도 몇개 읽어봤습니다. \\n\\n결정하고 또다시 3가지 중 골라야 되는 상황이 되었습니다 등이 유리냐 스틸이냐. 유리면 유광이냐 무광이냐. \\n\\n그리 오래 걸리진 않았습니다. 고가의 스탠드를 본 눈으로서 유광유리 갓으로 골랐습니다. 그리고 결과는 대만족입니다\\n\\n너무 이쁘고 가격 이상의 퀄리티 였습니다.\\n\\n살짝 제안하고 싶은 건 가능하다면 전선이 스탠드 바닥으로 나올수 있게 만들면 더 좋을 거 같은 생각입니다. 전선이 안보이면 스탠드 기둥이 이쁘게 딱 떨어지게 보일거 같거든요. 나중에 신제품 출시때 참고 해주시면 고맙겠습니다~~^^\\n\\n',\n",
       " '몽환적인 방 분위기 연출을 원하신다면 Flex!\\n밝은 벽지에 너무 잘어울리고 내방에 색다른 분위기가  느껴져요.  무언가 클래식 음악을 약하게 틀어놓으면 딱 좋을만한 분위기랄까ㅎㅎ 은은한 불빛이 너무 좋아서 잠이잘오는 환경이되는것같아요~\\n\\n그리고 밝기조절이 여러단계로 많이 나누어져있어서 책이랑 폰볼때, 잘때 모두 다르게 조절하는게 짱이에요!  톤다운 되는듯이 밝기가 스르륵 줄어드는게 너무 고급스러운거 있죠! 타이머기능도 있어서 자기직전 버튼하나만 눌러놓으면 알아서 꺼져요.  저는 잠들때 켜놓고자는데 이기능있어서  더 좋은것같아요!\\n\\n방분위기 신경많이 쓰시는 분들이라면 후회하지 않을것같아요~\\n\\n방 분위기는 ',\n",
       " '적당한 가격에 깔끔하고 예쁜 조명을 찾아가 결정했는데 만족스러워요\\n침실에 놓으려 샀는데 거실에도 잘 어울리네요\\n분위기가 한층 좋아졌어요',\n",
       " '배송은 굉장히 빨랐는데 유리 쉐이드가 깨져서 금간채로 배송 되어서 교환 받는데 시간이 걸렸어요. 금간 유리를 제가 버려야 하는 것도 좀 그랬지만 \\n조립해서 설치하니 생각만큼 이쁘네요,, \\n30분 타이머 기능을 유용하게 사용할 것 같았는데 \\n타이머를 설정하면 아무 알람이 없어서? 설정됬는지 잘 모르겠는게 좀 불편하네요. \\n그것 빼면 정말 이쁘고 고급스러워 보여요 ㅎ ',\n",
       " '예전부터 장바구니에 담아 놓았던 스탠드 조명을 선뜻 결제 못하고 있던 참에 루미르 등을 보게 되었습니다.\\n이건 보자마자 반해서 바로 구매를 했습니다. 제품의 디자인, 마감, 포장 모두 훌륭합니다. \\n좋은 가격에 구매 할 수 있어서 너무 좋네요. 만족도 1000%에요. \\n낮에는 등을 켜지 않아도 유광 유리가 포인트가 되어 주고, 밤에는 조명 만으로도 충분히 방을 밝혀 줍니다.\\n1단계는 취침 등으로 적당하고 30분 타이머가 아주 유용합니다.\\n너무 예뻐서 자꾸 사진을 찍게 되네요.',\n",
       " '생각보다 밝아서 좋아요. 화장대에 놓고 쓰려고 흰색 조명도 가능한 제품 찾다가 구입한건데 노란색조명고 엄청 노랗지는?않네용',\n",
       " '추천합니다\\n마음에 든 이유는 고유의 아이덴티티가 있는 램프입니다\\n명품 짝퉁같았으면 선택하지 않았을 겁니다.\\n거기에다가 조도까지 조절할 수 있으니 선택하지 않을 이유가 없지요.. \\n좋은 제품 만들어 주셔서 감사합니다 응원할게요 : )',\n",
       " '집을 이사하고 이것저것 새로운 가구들을 들였지만 느낌이 없어 조명으로 눈을 돌렸다가 만난 조명인데, 너무 이쁘네요 조명 들어오는 순간 거실에 감성충망하게 만들어주네요 거실이 넓은 편인데 밝기가 밝아 밤에는 이거 하나로도 지낼만하고요 유리라허 고민을 많이했는데 아래 지지도 꽤 무겁고 그 아래 고무가 식탁에 딱 붙어서 잘 떨어지지도 않을거 같네요 너무 마음에 듭니다!',\n",
       " '예전부터 루미르의 다른 조명 제품을 사용하고 있었어요. 눈에도 부담스럽지 않은 편안한 빛이고 군더더기 없는 디자인도 제 취향이라 만족하며 사용하고 있었는데, 신제품이 나왔다는 소식을 알게되어 바로 또 구매했습니다🙂 \\n\\n역시나 실망시키지 않네요. 심플하면서도 고급스럽고, 사진에는 차이가 잘 나오지 않지만 3가지로 색을 바꿀 수 있어서 다른 무드가 만들어지는 점도 좋아요. 밝기는 거실 테이블 위에 두었더니 스탠드만 켜두고 지내도 충분할 정도입니다. 세상을 밝힌다는 브랜드의 의미도 와닿았고,  매번 돈이 아깝지 않아요. 다음 제품도 기대가 돼요.😊',\n",
       " '방에 어울리는 조명을 고르기까지 많이 찾아보고 고민하다가 루미르 제품을 선택했는데 정말 만족스러워요. 처음 배송왔을 때 유리가 깨져서 와서 교환하는데 시간이 좀 걸렸지만 친절하게 응대해 주셨고 오늘 제대로 조립해서 켜봤어요. \\n받침부분이 무게감이 있는 편이라 저렴해보이지 않고 흔들림없이 더 잘 지탱될 것 같아요. \\n밝기 조절도 부드럽게 잘 되고 다루기 복잡하지 않고 심플해서 좋아요. 조명 하나 들어온 것 뿐인데 방 분위기가 달라져서 방에 들어갈 때마다 자꾸 눈이 가네요. 조명의 힘이 크다는 걸 다시 느꼈어요. 무엇보다 세 가지가 색 모두 최대 밝기로 켜도 눈이 안아픈 게 너무 마음에 들어요! 할인까지 해서 저렴한 가격에 이 정도 퀄리티의 조명을 구입해서 너무 만족합니다:)',\n",
       " '완벽하게 제가 찾던 조명이에요. 성능, 디자인, 가격까지  어떻게 하나도 빠지지않고 이렇게 완벽하게 마음에들수 있는지 ^^\\n그중 타이머 기능은 자기전 항상 침대옆 조명을 켜놓는 사람들에겐 꼭 필요한 기능이죠. 조명을 켜놓고 자서 설잠을 자거나 조명을 끄려다 잠을 깨는일이 종종있어 정말 원하던 기능이였어요. \\n심플하지만 볼륨감있는 디자인도 매력적이고 빛이 사방으로 퍼지지만 전혀 눈부시지 않고 책을 읽는데도 전혀 불편함 없고 어떤일을 하던 적당한 밝음에 밤에 메인등을 켤 일이 없을것 같아요. \\n오랜만에 완벽한 구매였습니다.\\n루미르조명 앞으로 계속 기대해봅니다 ^^',\n",
       " '유광 무광 정말 많이 고민했는데 유광선택할 잘 한거 같아요 저희집이랑 너무 잘 어울리네요^^ 고급스러워보여요.']"
      ]
     },
     "execution_count": 25,
     "metadata": {},
     "output_type": "execute_result"
    }
   ],
   "source": [
    "review"
   ]
  },
  {
   "cell_type": "code",
   "execution_count": 26,
   "id": "enhanced-anxiety",
   "metadata": {},
   "outputs": [],
   "source": [
    "def preprocessing(txt):\n",
    "    import re\n",
    "    txt = re.sub('[^ㄱ-ㅎㅏ-ㅣ가-힣 ]', '', txt)\n",
    "    sw = set() # 집합자료형 선언\n",
    "    with open('stopwords-ko.txt', encoding='utf-8') as f:\n",
    "        for w in f:\n",
    "            sw.add(w.replace('\\n',''))\n",
    "    doc = []\n",
    "    from eunjeon import Mecab\n",
    "    mecab = Mecab()\n",
    "    for word in mecab.morphs(txt):\n",
    "        if word not in sw and len(word) > 1:\n",
    "            doc.append(word)\n",
    "    return doc"
   ]
  },
  {
   "cell_type": "code",
   "execution_count": 27,
   "id": "educated-jaguar",
   "metadata": {},
   "outputs": [],
   "source": [
    "# 학습한 머신을 이용한 데이터 predict 후 리스트에 담기\n",
    "def predict_func(review,pre_data):\n",
    "    for text in review:\n",
    "        text = preprocessing(text)\n",
    "        text = tokenizer.texts_to_sequences([text])\n",
    "        text = pad_sequences(text, maxlen=max_len, padding='pre')\n",
    "        pre_data.append((model.predict(text)))\n",
    "    return pre_data"
   ]
  },
  {
   "cell_type": "code",
   "execution_count": 28,
   "id": "surprising-bernard",
   "metadata": {},
   "outputs": [],
   "source": [
    "pre_data = []\n",
    "out_data = predict_func(review,pre_data)"
   ]
  },
  {
   "cell_type": "code",
   "execution_count": 47,
   "id": "cultural-affairs",
   "metadata": {},
   "outputs": [
    {
     "data": {
      "text/plain": [
       "[55,\n",
       " 6,\n",
       " 100,\n",
       " 99,\n",
       " 97,\n",
       " 0,\n",
       " 1,\n",
       " 27,\n",
       " 99,\n",
       " 2,\n",
       " 82,\n",
       " 86,\n",
       " 13,\n",
       " 82,\n",
       " 87,\n",
       " 100,\n",
       " 100,\n",
       " 2,\n",
       " 84,\n",
       " 85,\n",
       " 100,\n",
       " 0,\n",
       " 100,\n",
       " 100,\n",
       " 8,\n",
       " 99,\n",
       " 99,\n",
       " 84,\n",
       " 100,\n",
       " 96,\n",
       " 100,\n",
       " 99,\n",
       " 66,\n",
       " 1,\n",
       " 100,\n",
       " 99,\n",
       " 100,\n",
       " 99,\n",
       " 7,\n",
       " 99,\n",
       " 98,\n",
       " 99,\n",
       " 96,\n",
       " 98,\n",
       " 99,\n",
       " 2,\n",
       " 57,\n",
       " 100,\n",
       " 90,\n",
       " 99,\n",
       " 100,\n",
       " 99,\n",
       " 70,\n",
       " 100,\n",
       " 100,\n",
       " 82,\n",
       " 100,\n",
       " 8,\n",
       " 99,\n",
       " 100,\n",
       " 71,\n",
       " 97,\n",
       " 1,\n",
       " 100,\n",
       " 29,\n",
       " 100,\n",
       " 99,\n",
       " 68,\n",
       " 100,\n",
       " 83,\n",
       " 100,\n",
       " 97,\n",
       " 100,\n",
       " 99,\n",
       " 98,\n",
       " 94,\n",
       " 49,\n",
       " 63,\n",
       " 100,\n",
       " 1,\n",
       " 100,\n",
       " 99,\n",
       " 99,\n",
       " 61,\n",
       " 99,\n",
       " 100,\n",
       " 100,\n",
       " 98]"
      ]
     },
     "execution_count": 47,
     "metadata": {},
     "output_type": "execute_result"
    }
   ],
   "source": [
    "# 예측한 결과 값에 *100 후 소수 첫번째에서 반올림 후 score에 저장  \n",
    "result = [row[0][0] for row in out_data]\n",
    "score =[]\n",
    "for num in result:\n",
    "    score.append(round(num*100))\n",
    "score"
   ]
  },
  {
   "cell_type": "code",
   "execution_count": 77,
   "id": "unusual-application",
   "metadata": {},
   "outputs": [],
   "source": [
    "# 점수와 후기 데이터 하나의 튜플로 합치기\n",
    "data = tuple(zip(score,review))"
   ]
  },
  {
   "cell_type": "code",
   "execution_count": 78,
   "id": "northern-prefix",
   "metadata": {},
   "outputs": [
    {
     "data": {
      "text/plain": [
       "((55, '색감도 좋고 밝기 및 색상 조절이 되서 좋네요. 견고한 부분이 있고 높이도 좋습니다. 밤에 켜두기 좋네요.'),)"
      ]
     },
     "execution_count": 78,
     "metadata": {},
     "output_type": "execute_result"
    }
   ],
   "source": [
    "data[:1]"
   ]
  },
  {
   "cell_type": "code",
   "execution_count": 80,
   "id": "angry-subscriber",
   "metadata": {},
   "outputs": [],
   "source": [
    "#점수 데이터 데이터 베이스에 업데이트\n",
    "conn = pymysql.connect(host='localhost', user='root', password='root', db='collection', charset='utf8mb4')\n",
    "# Connection 으로부터 Cursor 생성\n",
    "cur = conn.cursor()\n",
    "for d in data:\n",
    "    cur.execute(\"update 29cm_lumir set score = %s where review = %s\", d)\n",
    "conn.commit()\n",
    "conn.close()"
   ]
  }
 ],
 "metadata": {
  "kernelspec": {
   "display_name": "Python 3",
   "language": "python",
   "name": "python3"
  },
  "language_info": {
   "codemirror_mode": {
    "name": "ipython",
    "version": 3
   },
   "file_extension": ".py",
   "mimetype": "text/x-python",
   "name": "python",
   "nbconvert_exporter": "python",
   "pygments_lexer": "ipython3",
   "version": "3.8.5"
  }
 },
 "nbformat": 4,
 "nbformat_minor": 5
}
