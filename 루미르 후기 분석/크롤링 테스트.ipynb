{
 "cells": [
  {
   "cell_type": "code",
   "execution_count": 4,
   "metadata": {},
   "outputs": [],
   "source": [
    "import requests\n",
    "from bs4 import BeautifulSoup"
   ]
  },
  {
   "cell_type": "code",
   "execution_count": 1,
   "metadata": {},
   "outputs": [
    {
     "name": "stdout",
     "output_type": "stream",
     "text": [
      "Collecting matplotlib\n",
      "  Downloading matplotlib-3.3.4-cp38-cp38-win_amd64.whl (8.5 MB)\n",
      "Collecting pillow>=6.2.0\n",
      "  Downloading Pillow-8.1.2-cp38-cp38-win_amd64.whl (2.2 MB)\n",
      "Requirement already satisfied: numpy>=1.15 in c:\\users\\gw024\\anaconda3\\lib\\site-packages (from matplotlib) (1.19.2)\n",
      "Collecting cycler>=0.10\n",
      "  Using cached cycler-0.10.0-py2.py3-none-any.whl (6.5 kB)\n",
      "Requirement already satisfied: python-dateutil>=2.1 in c:\\users\\gw024\\anaconda3\\lib\\site-packages (from matplotlib) (2.8.1)"
     ]
    },
    {
     "name": "stderr",
     "output_type": "stream",
     "text": [
      "ERROR: pip's dependency resolver does not currently take into account all the packages that are installed. This behaviour is the source of the following dependency conflicts.\n",
      "mglearn 0.1.9 requires imageio, which is not installed.\n",
      "mglearn 0.1.9 requires pandas, which is not installed.\n"
     ]
    },
    {
     "name": "stdout",
     "output_type": "stream",
     "text": [
      "\n",
      "Collecting kiwisolver>=1.0.1\n",
      "  Downloading kiwisolver-1.3.1-cp38-cp38-win_amd64.whl (51 kB)\n",
      "Requirement already satisfied: pyparsing!=2.0.4,!=2.1.2,!=2.1.6,>=2.0.3 in c:\\users\\gw024\\anaconda3\\lib\\site-packages (from matplotlib) (2.4.7)\n",
      "Requirement already satisfied: six in c:\\users\\gw024\\anaconda3\\lib\\site-packages (from cycler>=0.10->matplotlib) (1.15.0)\n",
      "Installing collected packages: pillow, kiwisolver, cycler, matplotlib\n",
      "Successfully installed cycler-0.10.0 kiwisolver-1.3.1 matplotlib-3.3.4 pillow-8.1.2\n"
     ]
    }
   ],
   "source": [
    "!pip install matplotlib"
   ]
  },
  {
   "cell_type": "code",
   "execution_count": 6,
   "metadata": {},
   "outputs": [
    {
     "name": "stdout",
     "output_type": "stream",
     "text": [
      "<!DOCTYPE html>\r\n",
      "<html lang=\"en\">\r\n",
      "<head>\r\n",
      "    <meta charset=\"UTF-8\">\r\n",
      "    <meta http-equiv=\"X-UA-Compatible\" content=\"IE=edge\">\r\n",
      "    <meta name=\"viewport\" content=\"width=device-width, initial-scale=1.0\">\r\n",
      "    <title>Document</title>\r\n",
      "\r\n",
      "\r\n",
      "    <style>\r\n",
      "    \r\n",
      "    .textbox{\r\n",
      "\r\n",
      "        border-bottom : 2px solid #000;\r\n",
      "        border-color:red;\r\n",
      "        margin : 3px;\r\n",
      "        width: 30%;\r\n",
      "        border-inline-start-color: red;\r\n",
      "        border-inline-color: blue;\r\n",
      "        border-block: red;\r\n",
      "        display: table;\r\n",
      "        \r\n",
      "    }\r\n",
      "\r\n",
      "    </style>\r\n",
      "\r\n",
      "</head>\r\n",
      "<body>\r\n",
      "<h2>Movie comment</h2>\r\n",
      "<div class=\"textbox\">\r\n",
      "    <p class='comment'>이 영화내용은 정말 감동적이네요.</p>\r\n",
      "    <p class='comment'>평점이 별로네요</p>\r\n",
      "    <p class='comment'>영화비가 아까웠어요.</p>\r\n",
      "</div>\r\n",
      "\r\n",
      "<div class=\"textbox\">\r\n",
      "    <p class='comment'>연출이 아쉬웠어요</p>\r\n",
      "</div>\r\n",
      "    \r\n",
      "\r\n",
      "\r\n",
      "<div class=\"textbox\">\r\n",
      "    <p class='comment'>연기가 정말 훌륭해요</p>\r\n",
      "</div>\r\n",
      "\r\n",
      "</body>\r\n",
      "</html>\n"
     ]
    }
   ],
   "source": [
    "url = 'http://127.0.0.1:8080/crawlingtest/text.html'\n",
    "headers = {\n",
    "    'user-agent':'Mozilla/5.0 (Windows NT 10.0; Win64; x64) AppleWebKit/537.36 (KHTML, like Gecko) Chrome/86.0.4240.198 Safari/537.36'\n",
    "}\n",
    "res = requests.get(url, headers=headers)\n",
    "print(res.text)\n",
    "html = res.text"
   ]
  },
  {
   "cell_type": "code",
   "execution_count": 8,
   "metadata": {},
   "outputs": [
    {
     "name": "stdout",
     "output_type": "stream",
     "text": [
      "이 영화내용은 정말 감동적이네요.\n"
     ]
    }
   ],
   "source": [
    "soup = BeautifulSoup(html)\n",
    "content = soup.find(class_='comment')\n",
    "print(content.string)"
   ]
  },
  {
   "cell_type": "code",
   "execution_count": 14,
   "metadata": {},
   "outputs": [],
   "source": [
    "comment_Data = []\n",
    "for content in soup.find_all(class_='comment'):\n",
    "    comment_Data.append(content.string)"
   ]
  },
  {
   "cell_type": "code",
   "execution_count": 17,
   "metadata": {},
   "outputs": [
    {
     "name": "stdout",
     "output_type": "stream",
     "text": [
      "이 영화내용은 정말 감동적이네요.\n",
      "평점이 별로네요\n",
      "영화비가 아까웠어요.\n",
      "연출이 아쉬웠어요\n",
      "연기가 정말 훌륭해요\n"
     ]
    }
   ],
   "source": [
    "for text in comment_Data:\n",
    "    print(text)"
   ]
  },
  {
   "cell_type": "code",
   "execution_count": 13,
   "metadata": {},
   "outputs": [],
   "source": [
    "import pymysql\n",
    "# MySQL Connection 연결\n",
    "conn = pymysql.connect(host='localhost', user='root', password='root', db='collection', charset='utf8')\n",
    "# Connection 으로부터 Cursor 생성\n",
    "cur = conn.cursor()"
   ]
  },
  {
   "cell_type": "code",
   "execution_count": 18,
   "metadata": {},
   "outputs": [],
   "source": [
    "for text in comment_Data:\n",
    "    cur.execute(\"insert into comment (content) values (%s)\", text)\n",
    "conn.commit()"
   ]
  },
  {
   "cell_type": "code",
   "execution_count": 19,
   "metadata": {},
   "outputs": [],
   "source": [
    "conn.close()"
   ]
  },
  {
   "cell_type": "code",
   "execution_count": 16,
   "metadata": {},
   "outputs": [],
   "source": [
    "import pymysql\n",
    "# MySQL Connection 연결\n",
    "conn = pymysql.connect(host='localhost', user='root', password='root', db='collection', charset='utf8')\n",
    "# Connection 으로부터 Cursor 생성\n",
    "cur = conn.cursor()"
   ]
  },
  {
   "cell_type": "code",
   "execution_count": null,
   "metadata": {},
   "outputs": [],
   "source": [
    "text = '테스트입니다.'\n",
    "naming = 'db 등록테스트입니다.'\n",
    "cur.execute(\"insert into comment (content, naming) values (%s, %s)\", (text, naming))\n",
    "conn.commit()"
   ]
  },
  {
   "cell_type": "code",
   "execution_count": null,
   "metadata": {},
   "outputs": [],
   "source": [
    "conn.close()"
   ]
  }
 ],
 "metadata": {
  "kernelspec": {
   "display_name": "Python 3",
   "language": "python",
   "name": "python3"
  },
  "language_info": {
   "codemirror_mode": {
    "name": "ipython",
    "version": 3
   },
   "file_extension": ".py",
   "mimetype": "text/x-python",
   "name": "python",
   "nbconvert_exporter": "python",
   "pygments_lexer": "ipython3",
   "version": "3.8.5"
  }
 },
 "nbformat": 4,
 "nbformat_minor": 4
}
