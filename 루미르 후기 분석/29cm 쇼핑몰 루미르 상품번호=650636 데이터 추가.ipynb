{
 "cells": [
  {
   "cell_type": "code",
   "execution_count": 1,
   "id": "adopted-jerusalem",
   "metadata": {},
   "outputs": [],
   "source": [
    "import urllib.request as req\n",
    "from bs4 import BeautifulSoup\n",
    "import sys\n",
    "from selenium.webdriver.support.ui import WebDriverWait\n",
    "from selenium.webdriver.support import expected_conditions as EC\n",
    "from selenium.webdriver.common.by import By\n",
    "from selenium import webdriver\n",
    "import json\n",
    "import pymysql"
   ]
  },
  {
   "cell_type": "code",
   "execution_count": 2,
   "id": "further-depression",
   "metadata": {},
   "outputs": [],
   "source": [
    "def crawling(input_data):\n",
    "    res_next = ''\n",
    "    i = 0\n",
    "    # 'next' 의 Value가 None 일 경우 다음페이지에 후기 내용 X\n",
    "    while res_next != None:\n",
    "        url  = 'https://cache.29cm.co.kr/item-review/?item_no=650636&offset='+str(7*i)+'&limit=7'\n",
    "        request = req.Request(url)\n",
    "        response = req.urlopen(request)\n",
    "        rescode = response.getcode()\n",
    "        \n",
    "        if(rescode==200):\n",
    "            res_review = response.read()\n",
    "            r_data =json.loads(res_review)\n",
    "            res_next = r_data['next']\n",
    "            print(res_next)\n",
    "            \n",
    "            for data in r_data['results']:\n",
    "                input_data.append(data['contents']) \n",
    "            \n",
    "        else:\n",
    "            print('Error code:'+rescode)\n",
    "            \n",
    "        i += 1\n",
    "        print(i)\n",
    "    return input_data "
   ]
  },
  {
   "cell_type": "code",
   "execution_count": 10,
   "id": "massive-receptor",
   "metadata": {
    "scrolled": false
   },
   "outputs": [],
   "source": [
    "update_data = []\n",
    "def add_data(update_data):\n",
    "    data = []\n",
    "    input_data = crawling(data)\n",
    "    # 기존 데이터베이스에 저장된 데이터 불러오기\n",
    "    conn = pymysql.connect(host='localhost', user ='root', password='root', db='collection', charset='utf8mb4')\n",
    "    cur = conn.cursor()\n",
    "    # 상품 번호 650636에 대한 데이터\n",
    "    cur.execute('select review from 29cm where product_no = 650636')\n",
    "    old_data = cur.fetchall()\n",
    "    cur.close()\n",
    "    conn.close()\n",
    "    \n",
    "    # 튜플인 부분 제거 후 리스트로 변환\n",
    "    db_data = list(old_data)\n",
    "    pre_db_data = [row[0] for row in db_data]\n",
    "    \n",
    "    #디비 데이터와 크롤링 데이터 비교 후 새로운 데이터 추출\n",
    "    for new_data in input_data:\n",
    "        if new_data not in pre_db_data:\n",
    "            print(new_data)\n",
    "            update_data.append(new_data)\n",
    "            \n",
    "    return update_data"
   ]
  },
  {
   "cell_type": "code",
   "execution_count": 11,
   "id": "fitted-collection",
   "metadata": {
    "scrolled": true
   },
   "outputs": [
    {
     "name": "stdout",
     "output_type": "stream",
     "text": [
      "/item-review/?item_no=650636&limit=7&offset=7\n",
      "1\n",
      "/item-review/?item_no=650636&limit=7&offset=14\n",
      "2\n",
      "/item-review/?item_no=650636&limit=7&offset=21\n",
      "3\n",
      "/item-review/?item_no=650636&limit=7&offset=28\n",
      "4\n",
      "/item-review/?item_no=650636&limit=7&offset=35\n",
      "5\n",
      "/item-review/?item_no=650636&limit=7&offset=42\n",
      "6\n",
      "/item-review/?item_no=650636&limit=7&offset=49\n",
      "7\n",
      "/item-review/?item_no=650636&limit=7&offset=56\n",
      "8\n",
      "/item-review/?item_no=650636&limit=7&offset=63\n",
      "9\n",
      "/item-review/?item_no=650636&limit=7&offset=70\n",
      "10\n",
      "/item-review/?item_no=650636&limit=7&offset=77\n",
      "11\n",
      "/item-review/?item_no=650636&limit=7&offset=84\n",
      "12\n",
      "None\n",
      "13\n",
      "유광 무광 정말 많이 고민했는데 유광선택할 잘 한거 같아요 저희집이랑 너무 잘 어울리네요^^ 고급스러워보여요.\n"
     ]
    }
   ],
   "source": [
    "update = add_data(update_data)"
   ]
  },
  {
   "cell_type": "code",
   "execution_count": 12,
   "id": "assured-palestine",
   "metadata": {},
   "outputs": [
    {
     "data": {
      "text/plain": [
       "['유광 무광 정말 많이 고민했는데 유광선택할 잘 한거 같아요 저희집이랑 너무 잘 어울리네요^^ 고급스러워보여요.']"
      ]
     },
     "execution_count": 12,
     "metadata": {},
     "output_type": "execute_result"
    }
   ],
   "source": [
    "update"
   ]
  },
  {
   "cell_type": "code",
   "execution_count": 13,
   "id": "comparative-rocket",
   "metadata": {},
   "outputs": [],
   "source": [
    "conn = pymysql.connect(host='localhost', user='root', password='root', db='collection', charset='utf8mb4')\n",
    "cur = conn.cursor()\n",
    "for data in update:\n",
    "    cur.execute(\"insert into 29cm_lumir (product_no,review) values (650636,%s)\", data)\n",
    "conn.commit()\n",
    "conn.close()"
   ]
  },
  {
   "cell_type": "markdown",
   "id": "ordinary-intervention",
   "metadata": {},
   "source": [
    "### 디비 저장 문제점\n",
    "현재 디비에 저장하면 최근에 추가한 글이 가장 마지막에 들어간다. 그러므로 처음 클롤링한 데이터는 list reverse를 이용하여 저장한 하도록 하자(순서를 맞추기 위해서).   "
   ]
  }
 ],
 "metadata": {
  "kernelspec": {
   "display_name": "Python 3",
   "language": "python",
   "name": "python3"
  },
  "language_info": {
   "codemirror_mode": {
    "name": "ipython",
    "version": 3
   },
   "file_extension": ".py",
   "mimetype": "text/x-python",
   "name": "python",
   "nbconvert_exporter": "python",
   "pygments_lexer": "ipython3",
   "version": "3.8.5"
  }
 },
 "nbformat": 4,
 "nbformat_minor": 5
}
